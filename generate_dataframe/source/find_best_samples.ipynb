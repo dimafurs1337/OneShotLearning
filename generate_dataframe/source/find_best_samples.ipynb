{
 "cells": [
  {
   "cell_type": "code",
   "execution_count": 2,
   "metadata": {},
   "outputs": [],
   "source": [
    "import os\n",
    "import sys\n",
    "import numpy as np\n",
    "from mnist import MNIST\n",
    "import matplotlib.pyplot as plt\n",
    "from prepare_data import load_data"
   ]
  },
  {
   "cell_type": "code",
   "execution_count": 3,
   "metadata": {},
   "outputs": [],
   "source": [
    "x_train, y_train, x_test, y_test = load_data()"
   ]
  },
  {
   "cell_type": "code",
   "execution_count": 11,
   "metadata": {},
   "outputs": [
    {
     "name": "stdout",
     "output_type": "stream",
     "text": [
      "0\n"
     ]
    },
    {
     "data": {
      "image/png": "[encoded data removed]",
      "text/plain": [
       "<Figure size 432x288 with 1 Axes>"
      ]
     },
     "metadata": {
      "needs_background": "light"
     },
     "output_type": "display_data"
    },
    {
     "name": "stdout",
     "output_type": "stream",
     "text": [
      "1\n"
     ]
    },
    {
     "data": {
      "image/png": "[encoded data removed]",
      "text/plain": [
       "<Figure size 432x288 with 1 Axes>"
      ]
     },
     "metadata": {
      "needs_background": "light"
     },
     "output_type": "display_data"
    },
    {
     "name": "stdout",
     "output_type": "stream",
     "text": [
      "2\n"
     ]
    },
    {
     "data": {
      "image/png": "[encoded data removed]",
      "text/plain": [
       "<Figure size 432x288 with 1 Axes>"
      ]
     },
     "metadata": {
      "needs_background": "light"
     },
     "output_type": "display_data"
    },
    {
     "name": "stdout",
     "output_type": "stream",
     "text": [
      "3\n"
     ]
    },
    {
     "data": {
      "image/png": "[encoded data removed]",
      "text/plain": [
       "<Figure size 432x288 with 1 Axes>"
      ]
     },
     "metadata": {
      "needs_background": "light"
     },
     "output_type": "display_data"
    },
    {
     "name": "stdout",
     "output_type": "stream",
     "text": [
      "4\n"
     ]
    },
    {
     "data": {
      "image/png": "[encoded data removed]",
      "text/plain": [
       "<Figure size 432x288 with 1 Axes>"
      ]
     },
     "metadata": {
      "needs_background": "light"
     },
     "output_type": "display_data"
    }
   ],
   "source": [
    "choosen_n = 9\n",
    "x_s = x_test[y_test==choosen_n]\n",
    "\n",
    "for i in range(5):\n",
    "    pixels = x_s[i].reshape((28, 28))\n",
    "    plt.imshow(pixels, cmap='gray')\n",
    "    print(i)\n",
    "    plt.show()"
   ]
  },
  {
   "cell_type": "code",
   "execution_count": 12,
   "metadata": {},
   "outputs": [],
   "source": [
    "#\"0\" - 1,2,5,7,9\n",
    "zeros_idx = [1,2,5,7,9]\n",
    "x_zero = x_test[y_test==0]\n",
    "best_zeros = np.array([x_zero[i].reshape(28,28) for i in zeros_idx])"
   ]
  },
  {
   "cell_type": "code",
   "execution_count": 13,
   "metadata": {},
   "outputs": [],
   "source": [
    "#\"1\" - 0,1,2,5,6\n",
    "one_idx = [0,1,2,5,6]\n",
    "x_one = x_test[y_test==1]\n",
    "best_ones = np.array([x_one[i].reshape(28,28) for i in one_idx])"
   ]
  },
  {
   "cell_type": "code",
   "execution_count": 14,
   "metadata": {},
   "outputs": [],
   "source": [
    "#\"2\" - 1,4,13,21,29\n",
    "two_idx = [1,4,13,21,29]\n",
    "x_two = x_test[y_test==2]\n",
    "best_two = np.array([x_two[i].reshape(28,28) for i in two_idx])"
   ]
  },
  {
   "cell_type": "code",
   "execution_count": 15,
   "metadata": {},
   "outputs": [],
   "source": [
    "#\"3\" - 1,6,7,9,11\n",
    "three_idx = [1,6,7,9,11]\n",
    "x_three = x_test[y_test==3]\n",
    "best_three = np.array([x_three[i].reshape(28,28) for i in three_idx])"
   ]
  },
  {
   "cell_type": "code",
   "execution_count": 16,
   "metadata": {},
   "outputs": [],
   "source": [
    "#\"4\" - 0,2,3,4,6\n",
    "four_idx = [0,2,3,4,6]\n",
    "x_four = x_test[y_test==4]\n",
    "best_four = np.array([x_four[i].reshape(28,28) for i in four_idx])"
   ]
  },
  {
   "cell_type": "code",
   "execution_count": 17,
   "metadata": {},
   "outputs": [],
   "source": [
    "#\"5\" - 1,2,3,4,5\n",
    "five_idx = [1,2,3,4,5]\n",
    "x_five = x_test[y_test==5]\n",
    "best_five = np.array([x_five[i].reshape(28,28) for i in five_idx])"
   ]
  },
  {
   "cell_type": "code",
   "execution_count": 18,
   "metadata": {},
   "outputs": [],
   "source": [
    "#\"6\" - 1,3,6,8,23\n",
    "six_idx = [1,3,6,8,23]\n",
    "x_six = x_test[y_test==6]\n",
    "best_six = np.array([x_six[i].reshape(28,28) for i in six_idx])"
   ]
  },
  {
   "cell_type": "code",
   "execution_count": 19,
   "metadata": {},
   "outputs": [],
   "source": [
    "#\"7\" - 0,1,7,9,13\n",
    "seven_idx = [0,1,7,9,13]\n",
    "x_seven = x_test[y_test==7]\n",
    "best_seven = np.array([x_seven[i].reshape(28,28) for i in seven_idx])"
   ]
  },
  {
   "cell_type": "code",
   "execution_count": 20,
   "metadata": {},
   "outputs": [],
   "source": [
    "#\"8\" - 0,2,3,4,7\n",
    "eight_idx = [0,2,3,4,7]\n",
    "x_eight = x_test[y_test==8]\n",
    "best_eight = np.array([x_eight[i].reshape(28,28) for i in eight_idx])"
   ]
  },
  {
   "cell_type": "code",
   "execution_count": 21,
   "metadata": {},
   "outputs": [],
   "source": [
    "#\"9\" - 2,5,10,12,14\n",
    "nine_idx = [2,5,10,12,14]\n",
    "x_nine = x_test[y_test==9]\n",
    "best_nine = np.array([x_nine[i].reshape(28,28) for i in nine_idx])"
   ]
  },
  {
   "cell_type": "code",
   "execution_count": 22,
   "metadata": {},
   "outputs": [],
   "source": [
    "np.savez(\"best_pics.npz\", Zero=best_zeros, One=best_ones, Two=best_two, \n",
    "         Three=best_three, Four=best_four, Five=best_five, \n",
    "         Six=best_six, Seven=best_seven, Eight=best_eight, \n",
    "         Nine=best_nine)"
   ]
  },
  {
   "cell_type": "code",
   "execution_count": 23,
   "metadata": {},
   "outputs": [],
   "source": [
    "res = np.load(\"best_pics.npz\")"
   ]
  },
  {
   "cell_type": "code",
   "execution_count": 24,
   "metadata": {},
   "outputs": [
    {
     "data": {
      "text/plain": [
       "(5, 28, 28)"
      ]
     },
     "execution_count": 24,
     "metadata": {},
     "output_type": "execute_result"
    }
   ],
   "source": [
    "res['Zero'].shape"
   ]
  },
  {
   "cell_type": "code",
   "execution_count": 25,
   "metadata": {},
   "outputs": [
    {
     "data": {
      "image/png": "[encoded data removed]",
      "text/plain": [
       "<Figure size 432x288 with 1 Axes>"
      ]
     },
     "metadata": {
      "needs_background": "light"
     },
     "output_type": "display_data"
    }
   ],
   "source": [
    "pixels = res['Zero'][0].reshape((28, 28))\n",
    "plt.imshow(pixels, cmap='gray')\n",
    "plt.show()"
   ]
  },
  {
   "cell_type": "code",
   "execution_count": null,
   "metadata": {},
   "outputs": [],
   "source": []
  }
 ],
 "metadata": {
  "kernelspec": {
   "display_name": "Python 3",
   "language": "python",
   "name": "python3"
  },
  "language_info": {
   "codemirror_mode": {
    "name": "ipython",
    "version": 3
   },
   "file_extension": ".py",
   "mimetype": "text/x-python",
   "name": "python",
   "nbconvert_exporter": "python",
   "pygments_lexer": "ipython3",
   "version": "3.7.0"
  }
 },
 "nbformat": 4,
 "nbformat_minor": 2
}
