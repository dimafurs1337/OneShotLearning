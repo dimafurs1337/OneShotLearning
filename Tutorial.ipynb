{
 "cells": [
  {
   "cell_type": "markdown",
   "metadata": {},
   "source": [
    "# Tutorial"
   ]
  },
  {
   "cell_type": "markdown",
   "metadata": {},
   "source": [
    "## 1. Data preparation"
   ]
  },
  {
   "cell_type": "markdown",
   "metadata": {},
   "source": [
    "* ###  To generate new dataframe"
   ]
  },
  {
   "cell_type": "code",
   "execution_count": 3,
   "metadata": {},
   "outputs": [],
   "source": [
    "from generate_dataframe.source.prepare_data import get_data\n",
    "\n",
    "# provide sizes\n",
    "train_size = 10000\n",
    "test_size = 5000\n",
    "\n",
    "x_train, y_train, x_test, y_test = get_data(train_size, test_size)\n"
   ]
  },
  {
   "cell_type": "markdown",
   "metadata": {},
   "source": [
    "* ### To load already existing"
   ]
  },
  {
   "cell_type": "code",
   "execution_count": 4,
   "metadata": {},
   "outputs": [],
   "source": [
    "from generate_dataframe.source.prepare_data import load_existing_data\n",
    "\n",
    "# provide path (/generate_dataframe/generated/generated_data.npz)\n",
    "\n",
    "x_train, y_train, x_test, y_test = load_existing_data(\"generate_dataframe/generated/generated_data.npz\")"
   ]
  },
  {
   "cell_type": "markdown",
   "metadata": {},
   "source": [
    "## 2. Load reference samples"
   ]
  },
  {
   "cell_type": "code",
   "execution_count": 13,
   "metadata": {},
   "outputs": [],
   "source": [
    "import numpy as np\n",
    "samples = np.load(\"./generate_dataframe/data/reference_samples.npz\")"
   ]
  },
  {
   "cell_type": "code",
   "execution_count": 16,
   "metadata": {},
   "outputs": [
    {
     "data": {
      "image/png": "[encoded data removed]",
      "text/plain": [
       "<Figure size 432x288 with 1 Axes>"
      ]
     },
     "metadata": {
      "needs_background": "light"
     },
     "output_type": "display_data"
    }
   ],
   "source": [
    "# check if everything is loaded properly\n",
    "import matplotlib.pyplot as plt\n",
    "\n",
    "pixels = samples['Zero'][0].reshape((28, 28))\n",
    "plt.imshow(pixels, cmap='gray')\n",
    "plt.show()"
   ]
  },
  {
   "cell_type": "markdown",
   "metadata": {},
   "source": [
    "## 3. Working with the model"
   ]
  },
  {
   "cell_type": "markdown",
   "metadata": {},
   "source": [
    "* ### To load existing model"
   ]
  },
  {
   "cell_type": "code",
   "execution_count": 18,
   "metadata": {},
   "outputs": [],
   "source": [
    "from model.siamese_network import SiameseNetwork\n",
    "\n",
    "input_dim = x_train.shape[2:]\n",
    "SiameseNetwork.margin = 1\n",
    "model = SiameseNetwork(input_dim)\n",
    "model.load_model(\"weights/model_v1.h5\")"
   ]
  },
  {
   "cell_type": "markdown",
   "metadata": {},
   "source": [
    "* ### To train new model"
   ]
  },
  {
   "cell_type": "code",
   "execution_count": 19,
   "metadata": {},
   "outputs": [
    {
     "name": "stdout",
     "output_type": "stream",
     "text": [
      "Train on 7500 samples, validate on 2500 samples\n",
      "Epoch 1/10\n",
      "7500/7500 [==============================] - 16s 2ms/step - loss: 0.1774 - val_loss: 0.0552\n",
      "Epoch 2/10\n",
      "7500/7500 [==============================] - 5s 703us/step - loss: 0.1024 - val_loss: 0.0305\n",
      "Epoch 3/10\n",
      "7500/7500 [==============================] - 5s 688us/step - loss: 0.0675 - val_loss: 0.0483\n",
      "Epoch 4/10\n",
      "7500/7500 [==============================] - 5s 691us/step - loss: 0.0493 - val_loss: 0.0435\n",
      "Epoch 5/10\n",
      "7500/7500 [==============================] - 5s 693us/step - loss: 0.0388 - val_loss: 0.0290\n",
      "Epoch 6/10\n",
      "7500/7500 [==============================] - 5s 691us/step - loss: 0.0291 - val_loss: 0.0168\n",
      "Epoch 7/10\n",
      "7500/7500 [==============================] - 5s 690us/step - loss: 0.0235 - val_loss: 0.0277\n",
      "Epoch 8/10\n",
      "7500/7500 [==============================] - 5s 690us/step - loss: 0.0175 - val_loss: 0.0237\n",
      "Epoch 9/10\n",
      "7500/7500 [==============================] - 5s 692us/step - loss: 0.0155 - val_loss: 0.0459\n",
      "Epoch 10/10\n",
      "7500/7500 [==============================] - 5s 691us/step - loss: 0.0135 - val_loss: 0.0215\n"
     ]
    }
   ],
   "source": [
    "from model.siamese_network import SiameseNetwork\n",
    "\n",
    "# provide batch_size and n_epochs\n",
    "batch_size = 32\n",
    "n_epochs = 10\n",
    "\n",
    "input_dim = x_train.shape[2:]\n",
    "SiameseNetwork.margin = 1\n",
    "model = SiameseNetwork(input_dim)\n",
    "model.fit(x_train, y_train, batch_size,n_epochs)"
   ]
  },
  {
   "cell_type": "markdown",
   "metadata": {},
   "source": [
    "* ### To save model  "
   ]
  },
  {
   "cell_type": "code",
   "execution_count": 24,
   "metadata": {},
   "outputs": [],
   "source": [
    "# provide model name\n",
    "\n",
    "model_name = \"model_v2\"\n",
    "model.save_model(\"weights/\"+model_name+\".h5\")"
   ]
  },
  {
   "cell_type": "markdown",
   "metadata": {},
   "source": [
    "## 4. Making predictions and evaluating accuracy "
   ]
  },
  {
   "cell_type": "code",
   "execution_count": 29,
   "metadata": {},
   "outputs": [
    {
     "name": "stdout",
     "output_type": "stream",
     "text": [
      "0.9566\n"
     ]
    }
   ],
   "source": [
    "from model.accuracy import Accuracy\n",
    "\n",
    "prediction = model.make_prediction(x_test)\n",
    "acc = Accuracy.compute_accuracy(y_test, prediction)\n",
    "print(acc)"
   ]
  },
  {
   "cell_type": "markdown",
   "metadata": {},
   "source": [
    "## 5. Testing the ability to compare"
   ]
  },
  {
   "cell_type": "code",
   "execution_count": 42,
   "metadata": {},
   "outputs": [
    {
     "data": {
      "image/png": "[encoded data removed]",
      "text/plain": [
       "<Figure size 432x288 with 1 Axes>"
      ]
     },
     "metadata": {
      "needs_background": "light"
     },
     "output_type": "display_data"
    },
    {
     "data": {
      "text/plain": [
       "(28, 28)"
      ]
     },
     "execution_count": 42,
     "metadata": {},
     "output_type": "execute_result"
    }
   ],
   "source": [
    "# picking random number from test dataframe\n",
    "\n",
    "number = 1\n",
    "names = ['Zero', 'One', 'Two', 'Three' , 'Four', 'Five', 'Six', 'Seven', 'Eight', 'Nine']\n",
    "\n",
    "digit = x_test[number][0][0]\n",
    "plt.imshow(digit, cmap='gray')\n",
    "plt.show()"
   ]
  },
  {
   "cell_type": "code",
   "execution_count": 48,
   "metadata": {},
   "outputs": [],
   "source": [
    "# creating dataframe to find the most suitable number\n",
    "\n",
    "inner_range = samples['Zero'].shape[0]\n",
    "df = np.zeros([len(names)*inner_range,2,1,28,28])\n",
    "\n",
    "for i, name in enumerate(names):\n",
    "    for j in range(inner_range):\n",
    "        df[inner_range*i + j, 0, 0, :, :] = digit\n",
    "        df[inner_range*i + j, 1, 0, :, :] = samples[name][j]"
   ]
  },
  {
   "cell_type": "code",
   "execution_count": 52,
   "metadata": {},
   "outputs": [],
   "source": [
    "# making prediction\n",
    "\n",
    "comparison_predict = model.make_prediction(df)"
   ]
  },
  {
   "cell_type": "code",
   "execution_count": 55,
   "metadata": {},
   "outputs": [],
   "source": [
    "# getting probability values\n",
    "\n",
    "transform = lambda x: 1-x\n",
    "probabilities = transform(comparison_predict)"
   ]
  },
  {
   "cell_type": "code",
   "execution_count": 64,
   "metadata": {},
   "outputs": [],
   "source": [
    "# finding writing quality assessment\n",
    "\n",
    "np.argmax(probabilities)\n",
    "quality = int(10*probabilities[np.argmax(probabilities)])"
   ]
  },
  {
   "cell_type": "code",
   "execution_count": 75,
   "metadata": {},
   "outputs": [
    {
     "name": "stdout",
     "output_type": "stream",
     "text": [
      "Standart\n"
     ]
    },
    {
     "data": {
      "image/png": "[encoded data removed]",
      "text/plain": [
       "<Figure size 432x288 with 1 Axes>"
      ]
     },
     "metadata": {
      "needs_background": "light"
     },
     "output_type": "display_data"
    },
    {
     "name": "stdout",
     "output_type": "stream",
     "text": [
      "Written\n"
     ]
    },
    {
     "data": {
      "image/png": "[encoded data removed]",
      "text/plain": [
       "<Figure size 432x288 with 1 Axes>"
      ]
     },
     "metadata": {
      "needs_background": "light"
     },
     "output_type": "display_data"
    },
    {
     "name": "stdout",
     "output_type": "stream",
     "text": [
      "Quality assesment: 9\n"
     ]
    }
   ],
   "source": [
    "# print written symbol and int standart + writing quality\n",
    "\n",
    "print(\"Standart\")\n",
    "plt.imshow(samples[names[np.argmax(probabilities)//5]][np.argmax(probabilities)%5], cmap='gray')\n",
    "plt.show()\n",
    "print(\"Written\")\n",
    "plt.imshow(digit, cmap='gray')\n",
    "plt.show()\n",
    "print(\"Quality assesment: {:d}\".format(quality))"
   ]
  }
 ],
 "metadata": {
  "kernelspec": {
   "display_name": "Python 3",
   "language": "python",
   "name": "python3"
  },
  "language_info": {
   "codemirror_mode": {
    "name": "ipython",
    "version": 3
   },
   "file_extension": ".py",
   "mimetype": "text/x-python",
   "name": "python",
   "nbconvert_exporter": "python",
   "pygments_lexer": "ipython3",
   "version": "3.7.0"
  }
 },
 "nbformat": 4,
 "nbformat_minor": 2
}
