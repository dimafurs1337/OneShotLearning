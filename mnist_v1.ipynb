{
 "cells": [
  {
   "cell_type": "code",
   "execution_count": 4,
   "metadata": {},
   "outputs": [
    {
     "name": "stderr",
     "output_type": "stream",
     "text": [
      "Using TensorFlow backend.\n"
     ]
    }
   ],
   "source": [
    "import numpy as np\n",
    "from keras.models import Sequential\n",
    "from keras.layers import Conv2D, MaxPooling2D, Dropout, Dense, Flatten, BatchNormalization, Activation\n",
    "from keras.optimizers import Adam, Nadam, Adadelta, RMSprop, SGD\n",
    "from keras.utils import to_categorical\n",
    "from keras import regularizers\n",
    "from keras.preprocessing.image import ImageDataGenerator"
   ]
  },
  {
   "cell_type": "code",
   "execution_count": 5,
   "metadata": {},
   "outputs": [],
   "source": [
    "def load_data():\n",
    "    from mnist import MNIST\n",
    "    mnist = MNIST('C:/Users/My/Desktop/OneShot/mnist/')\n",
    "    x_train, y_train = mnist.load_training() \n",
    "    x_test, y_test = mnist.load_testing()\n",
    "    x_train = np.asarray(x_train).astype(np.float32)\n",
    "    y_train = np.asarray(y_train).astype(np.int32)\n",
    "    x_test = np.asarray(x_test).astype(np.float32)\n",
    "    y_test = np.asarray(y_test).astype(np.int32)\n",
    "    \n",
    "    return x_train/255, y_train, x_test/255, y_test\n",
    "\n",
    "x_train, y_train, x_test, y_test = load_data()"
   ]
  },
  {
   "cell_type": "code",
   "execution_count": 6,
   "metadata": {},
   "outputs": [
    {
     "data": {
      "text/plain": [
       "(10000, 10)"
      ]
     },
     "execution_count": 6,
     "metadata": {},
     "output_type": "execute_result"
    }
   ],
   "source": [
    "y_test = to_categorical(y_test,10)\n",
    "y_train = to_categorical(y_train, 10)\n",
    "\n",
    "y_test.shape"
   ]
  },
  {
   "cell_type": "code",
   "execution_count": 7,
   "metadata": {},
   "outputs": [],
   "source": [
    "x_train = x_train.reshape(x_train.shape[0], 28, 28, 1)\n",
    "x_test = x_test.reshape(x_test.shape[0], 28, 28, 1)"
   ]
  },
  {
   "cell_type": "code",
   "execution_count": 15,
   "metadata": {},
   "outputs": [],
   "source": [
    "def build_model():\n",
    "    \n",
    "    model = Sequential()\n",
    "    \n",
    "    ########################## Version v1 (2*Conv-pool-drop-2*Conv-pool-drop-flat-dense-drop-dense ##########################\n",
    "    \n",
    "    filters = [32,64]\n",
    "    kernel_sizes = [5,3]\n",
    "    \n",
    "    '''model.add(Conv2D(filters[0], kernel_sizes[0], input_shape=(28,28,1), strides=(1, 1), padding='same', activation='relu', use_bias=True, kernel_initializer='he_uniform', bias_initializer='zeros', kernel_regularizer=regularizers.l2(0.01), bias_regularizer=regularizers.l2(0.01), activity_regularizer=None))\n",
    "    model.add(Conv2D(filters[0], kernel_sizes[0], input_shape=(28,28,1), strides=(1, 1), padding='same', activation='relu', use_bias=True, kernel_initializer='he_uniform', bias_initializer='zeros', kernel_regularizer=regularizers.l2(0.01), bias_regularizer=regularizers.l2(0.01), activity_regularizer=None))\n",
    "    model.add(BatchNormalization())\n",
    "    model.add(MaxPooling2D(2,2))\n",
    "    model.add(Dropout(0.25))\n",
    "    \n",
    "    model.add(Conv2D(filters[1], kernel_sizes[1],  strides=(2, 2), padding='same', activation='relu', use_bias=True, kernel_initializer='he_uniform', bias_initializer='zeros', kernel_regularizer=regularizers.l2(0.01), bias_regularizer=regularizers.l2(0.01), activity_regularizer=None))\n",
    "    model.add(Conv2D(filters[1], kernel_sizes[1],  strides=(1, 1), padding='same', activation='relu', use_bias=True, kernel_initializer='he_uniform', bias_initializer='zeros', kernel_regularizer=regularizers.l2(0.01), bias_regularizer=regularizers.l2(0.01), activity_regularizer=None))\n",
    "    model.add(BatchNormalization())\n",
    "    model.add(MaxPooling2D(2,2))\n",
    "    model.add(Dropout(0.25))\n",
    "\n",
    "    model.add(Flatten())\n",
    "    model.add(Dense(256, activation='relu', use_bias=True, kernel_initializer='he_uniform', bias_initializer='zeros'))\n",
    "    model.add(Dropout(0.5))\n",
    "    model.add(Dense(10, activation='softmax', use_bias=True, kernel_initializer='he_uniform', bias_initializer='zeros'))'''\n",
    "    \n",
    "    ###########################################################################################################\n",
    "    \n",
    "    #### Version v2 (Conv+batch+Conv+batch+Conv+batch+drop+Conv+batch+Conv+batch+Conv+batch+drop+Conv+batch+flat+drop+dense ####\n",
    "    \n",
    "    '''model.add(Conv2D(32, kernel_size=3, activation='relu', input_shape=(28,28,1)))\n",
    "    model.add(BatchNormalization())    \n",
    "    model.add(Conv2D(32, kernel_size=3, activation='relu'))\n",
    "    model.add(BatchNormalization())   \n",
    "    model.add(Conv2D(32, kernel_size=5, strides=2, padding='same', activation='relu'))\n",
    "    model.add(BatchNormalization())\n",
    "    model.add(Dropout(0.25))\n",
    "    \n",
    "    model.add(Conv2D(64, kernel_size=3, activation='relu'))\n",
    "    model.add(BatchNormalization())\n",
    "    model.add(Conv2D(64, kernel_size=3, activation='relu'))\n",
    "    model.add(BatchNormalization())\n",
    "    model.add(Conv2D(64, kernel_size=5, strides=2, padding='same', activation='relu'))\n",
    "    model.add(BatchNormalization())   \n",
    "    model.add(Dropout(0.25))\n",
    "    \n",
    "    model.add(Conv2D(128, kernel_size=4, activation='relu'))\n",
    "    model.add(BatchNormalization())\n",
    "    model.add(Flatten())\n",
    "    model.add(Dropout(0.5))\n",
    "    model.add(Dense(10, activation='softmax'))'''\n",
    "    \n",
    "    ######### 0.98 - test ################### 0.992 validation on train #################################\n",
    "    ######### with data augmentation 0.995 test; 0.992 train\n",
    "     \n",
    "    ################### V3 0.995;  30 epochs ############################\n",
    "    '''  \n",
    "    model.add(Conv2D(32, kernel_size=3,input_shape=(28,28,1)))\n",
    "    model.add(BatchNormalization()) \n",
    "    model.add(Activation('relu'))\n",
    "    model.add(MaxPooling2D(2,2))\n",
    "    \n",
    "    model.add(Conv2D(64, kernel_size=3,input_shape=(28,28,1)))\n",
    "    model.add(BatchNormalization()) \n",
    "    model.add(Activation('relu'))\n",
    "    model.add(MaxPooling2D(2,2))\n",
    "    \n",
    "    model.add(Flatten())\n",
    "    model.add(Dense(256))\n",
    "    model.add(BatchNormalization())\n",
    "    model.add(Activation('relu'))\n",
    "    model.add(Dropout(0.25))\n",
    "    model.add(Dense(10, activation='softmax'))'''\n",
    "    \n",
    "    ################### V3 0.995 ############################\n",
    "    \n",
    "    ################### V4 ##################################\n",
    "    \n",
    "    '''model.add(Conv2D(32, kernel_size=3, activation='relu', input_shape=(28,28,1)))\n",
    "    model.add(BatchNormalization())\n",
    "    model.add(Conv2D(64, kernel_size=3, activation='relu'))\n",
    "    model.add(BatchNormalization())\n",
    "    model.add(MaxPooling2D(2,2))\n",
    "    \n",
    "    model.add(Conv2D(64, kernel_size=3, activation='relu'))\n",
    "    model.add(BatchNormalization())\n",
    "    model.add(Conv2D(64, kernel_size=3, activation='relu'))\n",
    "    model.add(BatchNormalization())\n",
    "    model.add(Conv2D(64, kernel_size=3, activation='relu'))\n",
    "    model.add(BatchNormalization())\n",
    "    model.add(MaxPooling2D(2,2))\n",
    "    '''\n",
    "    ################### V4 ##################################\n",
    "    \n",
    "    ################### V5 ##################################\n",
    "    '''\n",
    "    model.add(Conv2D(128, kernel_size=3, activation='relu', input_shape=(28,28,1)))\n",
    "    model.add(BatchNormalization())\n",
    "    model.add(Conv2D(128, kernel_size=3, activation='relu', input_shape=(28,28,1)))\n",
    "    model.add(BatchNormalization())\n",
    "    model.add(MaxPooling2D(2,2))\n",
    "    \n",
    "    model.add(Conv2D(128, kernel_size=3, activation='relu', input_shape=(28,28,1)))\n",
    "    model.add(BatchNormalization())\n",
    "    \n",
    "    model.add(Conv2D(128, kernel_size=1, activation='relu', input_shape=(28,28,1)))\n",
    "    model.add(BatchNormalization())\n",
    "    \n",
    "    model.add(Conv2D(128, kernel_size=1, activation='relu', input_shape=(28,28,1)))\n",
    "    model.add(BatchNormalization())\n",
    "    model.add(MaxPooling2D(2,2))\n",
    "    \n",
    "    model.add(Conv2D(128, kernel_size=3, activation='relu', input_shape=(28,28,1)))\n",
    "    model.add(BatchNormalization())\n",
    "    model.add(MaxPooling2D(2,2))'''\n",
    "    \n",
    "    ################### V5 ##################################\n",
    "    ################### V6 ##################################\n",
    "    \n",
    "    '''model.add(Conv2D(64, kernel_size=3, activation='relu', input_shape=(28,28,1)))\n",
    "    model.add(BatchNormalization())\n",
    "    model.add(Conv2D(64, kernel_size=3, activation='relu'))\n",
    "    model.add(BatchNormalization())\n",
    "    model.add(MaxPooling2D(pool_size=(2,2)))\n",
    "    \n",
    "    model.add(Conv2D(128, kernel_size=3, activation='relu'))\n",
    "    model.add(BatchNormalization())\n",
    "    model.add(Conv2D(128, kernel_size=3, activation='relu'))\n",
    "    model.add(BatchNormalization())\n",
    "    model.add(MaxPooling2D(pool_size=(2,2)))\n",
    "    \n",
    "    model.add(Flatten())\n",
    "    model.add(Dense(512, activation='relu'))\n",
    "    model.add(BatchNormalization())\n",
    "    model.add(Dense(512, activation='relu'))\n",
    "    model.add(BatchNormalization())\n",
    "    model.add(Dropout(0.5))\n",
    "    model.add(Dense(10, activation='softmax'))'''\n",
    "    \n",
    "    ################### V6 ##################################\n",
    "    \n",
    "    \n",
    "    \n",
    "    model.add(Conv2D(64, (3,3), activation='relu', input_shape=(28,28,1), kernel_initializer='random_uniform'))\n",
    "    \n",
    "    model.add(MaxPooling2D((2,2)))\n",
    "    model.add(Conv2D(128, (3,3), activation='relu', kernel_initializer='random_uniform'))\n",
    "    \n",
    "    model.add(MaxPooling2D())\n",
    "    model.add(Dropout(.25))\n",
    "    model.add(Conv2D(128, (2,2), activation='relu', kernel_initializer='random_uniform'))\n",
    "    \n",
    "    model.add(MaxPooling2D((2,2)))\n",
    "    model.add(Dropout(.25))\n",
    "    model.add(Flatten())\n",
    "    model.add(Dense(10, activation='relu'))  \n",
    "    \n",
    "    \n",
    "    return model\n",
    "\n",
    "model = build_model()\n",
    "adm = Adam(learning_rate=0.002, beta_1=0.9, beta_2=0.999, amsgrad=False)\n",
    "ndm = Nadam(learning_rate=0.002, beta_1=0.9, beta_2=0.999)\n",
    "# 0.002, beta_1=0.8, beta_2=0.9 - 0.9657\n",
    "# 0.002, beta_1=0.8, beta_2=0.8 - 0.9658\n",
    "# 0.002, beta_1=0.8, beta_2=0.5 - 0.9662\n",
    "# 0.002, beta_1=0.8, beta_2=0.7 - 0.9664\n",
    "\n",
    "sgd = SGD(lr=0.01, decay=1e-6, momentum=0.9, nesterov=True)\n",
    "\n",
    "\n",
    "ada = Adadelta()\n",
    "rms = RMSprop(learning_rate=0.001, rho=0.9)\n",
    "\n",
    "model.compile(loss = 'categorical_crossentropy', optimizer = sgd, metrics=['accuracy'])"
   ]
  },
  {
   "cell_type": "code",
   "execution_count": 16,
   "metadata": {},
   "outputs": [],
   "source": [
    "data_gen = ImageDataGenerator(rotation_range=8, width_shift_range=0.08, shear_range=0.3, \n",
    "                              height_shift_range=0.08, zoom_range=0.08)\n",
    "data_gen.fit(x_train)\n",
    "\n"
   ]
  },
  {
   "cell_type": "code",
   "execution_count": 73,
   "metadata": {},
   "outputs": [
    {
     "name": "stdout",
     "output_type": "stream",
     "text": [
      "Epoch 1/10\n",
      "1875/1875 [==============================] - 33s 17ms/step - loss: 0.1379 - accuracy: 0.9579\n",
      "Epoch 2/10\n",
      "1875/1875 [==============================] - 31s 16ms/step - loss: 0.0626 - accuracy: 0.9810\n",
      "Epoch 3/10\n",
      "1875/1875 [==============================] - 31s 17ms/step - loss: 0.0500 - accuracy: 0.9846\n",
      "Epoch 4/10\n",
      "1875/1875 [==============================] - 31s 17ms/step - loss: 0.0437 - accuracy: 0.9863\n",
      "Epoch 5/10\n",
      "1875/1875 [==============================] - 30s 16ms/step - loss: 0.0388 - accuracy: 0.9880\n",
      "Epoch 6/10\n",
      "1875/1875 [==============================] - 31s 16ms/step - loss: 0.0349 - accuracy: 0.9892\n",
      "Epoch 7/10\n",
      "1875/1875 [==============================] - 32s 17ms/step - loss: 0.0322 - accuracy: 0.9898\n",
      "Epoch 8/10\n",
      "1875/1875 [==============================] - 32s 17ms/step - loss: 0.0291 - accuracy: 0.9912\n",
      "Epoch 9/10\n",
      "1875/1875 [==============================] - 29s 16ms/step - loss: 0.0286 - accuracy: 0.9908\n",
      "Epoch 10/10\n",
      "1875/1875 [==============================] - 32s 17ms/step - loss: 0.0267 - accuracy: 0.9918\n"
     ]
    },
    {
     "data": {
      "text/plain": [
       "<keras.callbacks.callbacks.History at 0x2ac924760f0>"
      ]
     },
     "execution_count": 73,
     "metadata": {},
     "output_type": "execute_result"
    }
   ],
   "source": [
    "model.fit_generator(data_gen.flow(x_train, y_train, batch_size=64),steps_per_epoch=len(x_train)//32, epochs=10)"
   ]
  },
  {
   "cell_type": "code",
   "execution_count": 17,
   "metadata": {},
   "outputs": [
    {
     "name": "stdout",
     "output_type": "stream",
     "text": [
      "Epoch 1/5\n",
      "937/937 [==============================] - 17s 18ms/step - loss: 4.6529 - accuracy: 0.4002\n",
      "Epoch 2/5\n",
      "937/937 [==============================] - 7s 7ms/step - loss: 3.9470 - accuracy: 0.6054\n",
      "Epoch 3/5\n",
      "937/937 [==============================] - 7s 7ms/step - loss: 2.6555 - accuracy: 0.3969\n",
      "Epoch 4/5\n",
      "937/937 [==============================] - 7s 8ms/step - loss: 3.2974 - accuracy: 0.5019\n",
      "Epoch 5/5\n",
      "937/937 [==============================] - 7s 7ms/step - loss: 3.7954 - accuracy: 0.6526\n",
      "Epoch 1/5\n",
      "923/923 [==============================] - 7s 7ms/step - loss: 0.5781 - accuracy: 0.2907\n",
      "Epoch 2/5\n",
      "923/923 [==============================] - 6s 7ms/step - loss: 0.1037 - accuracy: 0.1603\n",
      "Epoch 3/5\n",
      "923/923 [==============================] - 6s 7ms/step - loss: 0.1026 - accuracy: 0.1609\n",
      "Epoch 4/5\n",
      "923/923 [==============================] - 6s 7ms/step - loss: 0.1015 - accuracy: 0.1541\n",
      "Epoch 5/5\n",
      "923/923 [==============================] - 6s 7ms/step - loss: 0.0513 - accuracy: 0.1291\n",
      "Epoch 1/5\n",
      "937/937 [==============================] - 6s 7ms/step - loss: 0.0043 - accuracy: 0.1047\n",
      "Epoch 2/5\n",
      "937/937 [==============================] - 6s 6ms/step - loss: 0.0075 - accuracy: 0.1098\n",
      "Epoch 3/5\n",
      "937/937 [==============================] - 6s 6ms/step - loss: 0.0054 - accuracy: 0.1046\n",
      "Epoch 4/5\n",
      "937/937 [==============================] - 6s 7ms/step - loss: 0.0032 - accuracy: 0.1054\n",
      "Epoch 5/5\n",
      "937/937 [==============================] - 6s 6ms/step - loss: 0.0032 - accuracy: 0.1043\n"
     ]
    },
    {
     "data": {
      "text/plain": [
       "<keras.callbacks.callbacks.History at 0x1bd2c848a90>"
      ]
     },
     "execution_count": 17,
     "metadata": {},
     "output_type": "execute_result"
    }
   ],
   "source": [
    "model.compile(loss = 'categorical_crossentropy', optimizer = ndm, metrics=['accuracy'])\n",
    "model.fit_generator(data_gen.flow(x_train, y_train, batch_size=16),steps_per_epoch=len(x_train)//64, epochs=5)\n",
    "model.compile(loss = 'categorical_crossentropy', optimizer = adm, metrics=['accuracy'])\n",
    "model.fit_generator(data_gen.flow(x_train, y_train, batch_size=16),steps_per_epoch=len(x_train)//65, epochs=5)\n",
    "model.compile(loss = 'categorical_crossentropy', optimizer = sgd, metrics=['accuracy'])\n",
    "model.fit_generator(data_gen.flow(x_train, y_train, batch_size=16),steps_per_epoch=len(x_train)//64, epochs=5)"
   ]
  },
  {
   "cell_type": "code",
   "execution_count": null,
   "metadata": {},
   "outputs": [],
   "source": [
    "'''epochs = 10\n",
    "h = model.fit(x_train[:1000], y_train[:1000], validation_split=.25, batch_size=32, verbose=2, epochs=epochs)'''"
   ]
  },
  {
   "cell_type": "code",
   "execution_count": 18,
   "metadata": {},
   "outputs": [
    {
     "name": "stdout",
     "output_type": "stream",
     "text": [
      "10000/10000 [==============================] - 1s 121us/step\n"
     ]
    },
    {
     "data": {
      "text/plain": [
       "[1.1920930376163597e-07, 0.1005999967455864]"
      ]
     },
     "execution_count": 18,
     "metadata": {},
     "output_type": "execute_result"
    }
   ],
   "source": [
    "score = model.evaluate(x_test, y_test)\n",
    "score"
   ]
  },
  {
   "cell_type": "code",
   "execution_count": 44,
   "metadata": {},
   "outputs": [],
   "source": [
    "model.save('mnist_augmentation.h5')"
   ]
  },
  {
   "cell_type": "code",
   "execution_count": null,
   "metadata": {},
   "outputs": [],
   "source": []
  }
 ],
 "metadata": {
  "kernelspec": {
   "display_name": "Python 3",
   "language": "python",
   "name": "python3"
  },
  "language_info": {
   "codemirror_mode": {
    "name": "ipython",
    "version": 3
   },
   "file_extension": ".py",
   "mimetype": "text/x-python",
   "name": "python",
   "nbconvert_exporter": "python",
   "pygments_lexer": "ipython3",
   "version": "3.7.0"
  }
 },
 "nbformat": 4,
 "nbformat_minor": 2
}
